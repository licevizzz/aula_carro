{
 "cells": [
  {
   "cell_type": "code",
   "execution_count": 18,
   "metadata": {},
   "outputs": [
    {
     "name": "stdout",
     "output_type": "stream",
     "text": [
      "a taxa a ser paga é 750.0\n"
     ]
    }
   ],
   "source": [
    "ano_carro = int(input('Informe o ano do carro.'))\n",
    "preco_carro = float(input('Informe o preco do carro.'))\n",
    "\n",
    "if ano_carro < 1990:\n",
    "    taxa1 = preco_carro*0.01\n",
    "    valor_carro = preco_carro + taxa1\n",
    "    print('a taxa a ser paga é' , valor_carro)\n",
    "\n",
    "else:\n",
    "    taxa2 = preco_carro*0.015\n",
    "    print('a taxa a ser paga é' , taxa2)"
   ]
  },
  {
   "cell_type": "code",
   "execution_count": 5,
   "metadata": {},
   "outputs": [
    {
     "name": "stdout",
     "output_type": "stream",
     "text": [
      "o seu salario atual é 500.0 e seu salario novo é 700.0 e a diferença entre eles é: 200.0\n"
     ]
    }
   ],
   "source": [
    "cargo = (input('Informe seu cargo.'))\n",
    "salario = float(input('Informe o seu salario atual.'))\n",
    "\n",
    "if (cargo == 'gerente'):\n",
    "    salarionovo = salario + salario*10/100\n",
    "    diferenca = salarionovo - salario\n",
    "    print('o seu salario atual é' , salario , 'e seu salario novo é' , salarionovo , 'e a diferença entre eles é:' , diferenca)\n",
    "\n",
    "elif (cargo == 'engenheiro'):\n",
    "    salarionovo = salario + salario*20/100\n",
    "    diferenca = salarionovo - salario\n",
    "    print('o seu salario atual é' , salario , 'e seu salario novo é' , salarionovo , 'e a diferença entre eles é:' , diferenca)\n",
    "\n",
    "elif (cargo == 'Tecnico'):\n",
    "    salarionovo = salario + salario*30/100\n",
    "    diferenca = salarionovo - salario\n",
    "    print('o seu salario atual é' , salario , 'e seu salario novo é' , salarionovo , 'e a diferença entre eles é:' , diferenca)\n",
    "\n",
    "else:\n",
    "    salarionovo = salario + salario*40/100\n",
    "    diferenca = salarionovo - salario\n",
    "    print('o seu salario atual é' , salario , 'e seu salario novo é' , salarionovo , 'e a diferença entre eles é:' , diferenca)"
   ]
  }
 ],
 "metadata": {
  "kernelspec": {
   "display_name": "Python 3",
   "language": "python",
   "name": "python3"
  },
  "language_info": {
   "codemirror_mode": {
    "name": "ipython",
    "version": 3
   },
   "file_extension": ".py",
   "mimetype": "text/x-python",
   "name": "python",
   "nbconvert_exporter": "python",
   "pygments_lexer": "ipython3",
   "version": "3.11.9"
  }
 },
 "nbformat": 4,
 "nbformat_minor": 2
}
